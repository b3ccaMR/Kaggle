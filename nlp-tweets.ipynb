{
 "cells": [
  {
   "cell_type": "code",
   "execution_count": 1,
   "id": "f5f5bb56",
   "metadata": {
    "_cell_guid": "b1076dfc-b9ad-4769-8c92-a6c4dae69d19",
    "_uuid": "8f2839f25d086af736a60e9eeb907d3b93b6e0e5",
    "execution": {
     "iopub.execute_input": "2023-02-18T02:43:29.321038Z",
     "iopub.status.busy": "2023-02-18T02:43:29.320053Z",
     "iopub.status.idle": "2023-02-18T02:43:29.335722Z",
     "shell.execute_reply": "2023-02-18T02:43:29.334894Z"
    },
    "papermill": {
     "duration": 0.024075,
     "end_time": "2023-02-18T02:43:29.338219",
     "exception": false,
     "start_time": "2023-02-18T02:43:29.314144",
     "status": "completed"
    },
    "tags": []
   },
   "outputs": [
    {
     "name": "stdout",
     "output_type": "stream",
     "text": [
      "/kaggle/input/nlp-getting-started/sample_submission.csv\n",
      "/kaggle/input/nlp-getting-started/train.csv\n",
      "/kaggle/input/nlp-getting-started/test.csv\n"
     ]
    }
   ],
   "source": [
    "# This Python 3 environment comes with many helpful analytics libraries installed\n",
    "# It is defined by the kaggle/python Docker image: https://github.com/kaggle/docker-python\n",
    "# For example, here's several helpful packages to load\n",
    "\n",
    "import numpy as np # linear algebra\n",
    "import pandas as pd # data processing, CSV file I/O (e.g. pd.read_csv)\n",
    "\n",
    "# Input data files are available in the read-only \"../input/\" directory\n",
    "# For example, running this (by clicking run or pressing Shift+Enter) will list all files under the input directory\n",
    "\n",
    "import os\n",
    "for dirname, _, filenames in os.walk('/kaggle/input'):\n",
    "    for filename in filenames:\n",
    "        print(os.path.join(dirname, filename))\n",
    "\n",
    "# You can write up to 20GB to the current directory (/kaggle/working/) that gets preserved as output when you create a version using \"Save & Run All\" \n",
    "# You can also write temporary files to /kaggle/temp/, but they won't be saved outside of the current session"
   ]
  },
  {
   "cell_type": "markdown",
   "id": "0a74eeb9",
   "metadata": {
    "papermill": {
     "duration": 0.0023,
     "end_time": "2023-02-18T02:43:29.343373",
     "exception": false,
     "start_time": "2023-02-18T02:43:29.341073",
     "status": "completed"
    },
    "tags": []
   },
   "source": [
    "# Initializing\n",
    "---"
   ]
  },
  {
   "cell_type": "code",
   "execution_count": 2,
   "id": "a9472fc0",
   "metadata": {
    "execution": {
     "iopub.execute_input": "2023-02-18T02:43:29.350127Z",
     "iopub.status.busy": "2023-02-18T02:43:29.349748Z",
     "iopub.status.idle": "2023-02-18T02:43:29.464390Z",
     "shell.execute_reply": "2023-02-18T02:43:29.463426Z"
    },
    "papermill": {
     "duration": 0.120619,
     "end_time": "2023-02-18T02:43:29.466421",
     "exception": false,
     "start_time": "2023-02-18T02:43:29.345802",
     "status": "completed"
    },
    "tags": []
   },
   "outputs": [
    {
     "data": {
      "text/html": [
       "<div>\n",
       "<style scoped>\n",
       "    .dataframe tbody tr th:only-of-type {\n",
       "        vertical-align: middle;\n",
       "    }\n",
       "\n",
       "    .dataframe tbody tr th {\n",
       "        vertical-align: top;\n",
       "    }\n",
       "\n",
       "    .dataframe thead th {\n",
       "        text-align: right;\n",
       "    }\n",
       "</style>\n",
       "<table border=\"1\" class=\"dataframe\">\n",
       "  <thead>\n",
       "    <tr style=\"text-align: right;\">\n",
       "      <th></th>\n",
       "      <th>id</th>\n",
       "      <th>keyword</th>\n",
       "      <th>location</th>\n",
       "      <th>text</th>\n",
       "      <th>target</th>\n",
       "    </tr>\n",
       "  </thead>\n",
       "  <tbody>\n",
       "    <tr>\n",
       "      <th>0</th>\n",
       "      <td>1</td>\n",
       "      <td>NaN</td>\n",
       "      <td>NaN</td>\n",
       "      <td>Our Deeds are the Reason of this #earthquake M...</td>\n",
       "      <td>1</td>\n",
       "    </tr>\n",
       "    <tr>\n",
       "      <th>1</th>\n",
       "      <td>4</td>\n",
       "      <td>NaN</td>\n",
       "      <td>NaN</td>\n",
       "      <td>Forest fire near La Ronge Sask. Canada</td>\n",
       "      <td>1</td>\n",
       "    </tr>\n",
       "    <tr>\n",
       "      <th>2</th>\n",
       "      <td>5</td>\n",
       "      <td>NaN</td>\n",
       "      <td>NaN</td>\n",
       "      <td>All residents asked to 'shelter in place' are ...</td>\n",
       "      <td>1</td>\n",
       "    </tr>\n",
       "    <tr>\n",
       "      <th>3</th>\n",
       "      <td>6</td>\n",
       "      <td>NaN</td>\n",
       "      <td>NaN</td>\n",
       "      <td>13,000 people receive #wildfires evacuation or...</td>\n",
       "      <td>1</td>\n",
       "    </tr>\n",
       "    <tr>\n",
       "      <th>4</th>\n",
       "      <td>7</td>\n",
       "      <td>NaN</td>\n",
       "      <td>NaN</td>\n",
       "      <td>Just got sent this photo from Ruby #Alaska as ...</td>\n",
       "      <td>1</td>\n",
       "    </tr>\n",
       "    <tr>\n",
       "      <th>5</th>\n",
       "      <td>8</td>\n",
       "      <td>NaN</td>\n",
       "      <td>NaN</td>\n",
       "      <td>#RockyFire Update =&gt; California Hwy. 20 closed...</td>\n",
       "      <td>1</td>\n",
       "    </tr>\n",
       "    <tr>\n",
       "      <th>6</th>\n",
       "      <td>10</td>\n",
       "      <td>NaN</td>\n",
       "      <td>NaN</td>\n",
       "      <td>#flood #disaster Heavy rain causes flash flood...</td>\n",
       "      <td>1</td>\n",
       "    </tr>\n",
       "    <tr>\n",
       "      <th>7</th>\n",
       "      <td>13</td>\n",
       "      <td>NaN</td>\n",
       "      <td>NaN</td>\n",
       "      <td>I'm on top of the hill and I can see a fire in...</td>\n",
       "      <td>1</td>\n",
       "    </tr>\n",
       "    <tr>\n",
       "      <th>8</th>\n",
       "      <td>14</td>\n",
       "      <td>NaN</td>\n",
       "      <td>NaN</td>\n",
       "      <td>There's an emergency evacuation happening now ...</td>\n",
       "      <td>1</td>\n",
       "    </tr>\n",
       "    <tr>\n",
       "      <th>9</th>\n",
       "      <td>15</td>\n",
       "      <td>NaN</td>\n",
       "      <td>NaN</td>\n",
       "      <td>I'm afraid that the tornado is coming to our a...</td>\n",
       "      <td>1</td>\n",
       "    </tr>\n",
       "  </tbody>\n",
       "</table>\n",
       "</div>"
      ],
      "text/plain": [
       "   id keyword location                                               text  \\\n",
       "0   1     NaN      NaN  Our Deeds are the Reason of this #earthquake M...   \n",
       "1   4     NaN      NaN             Forest fire near La Ronge Sask. Canada   \n",
       "2   5     NaN      NaN  All residents asked to 'shelter in place' are ...   \n",
       "3   6     NaN      NaN  13,000 people receive #wildfires evacuation or...   \n",
       "4   7     NaN      NaN  Just got sent this photo from Ruby #Alaska as ...   \n",
       "5   8     NaN      NaN  #RockyFire Update => California Hwy. 20 closed...   \n",
       "6  10     NaN      NaN  #flood #disaster Heavy rain causes flash flood...   \n",
       "7  13     NaN      NaN  I'm on top of the hill and I can see a fire in...   \n",
       "8  14     NaN      NaN  There's an emergency evacuation happening now ...   \n",
       "9  15     NaN      NaN  I'm afraid that the tornado is coming to our a...   \n",
       "\n",
       "   target  \n",
       "0       1  \n",
       "1       1  \n",
       "2       1  \n",
       "3       1  \n",
       "4       1  \n",
       "5       1  \n",
       "6       1  \n",
       "7       1  \n",
       "8       1  \n",
       "9       1  "
      ]
     },
     "execution_count": 2,
     "metadata": {},
     "output_type": "execute_result"
    }
   ],
   "source": [
    "train = pd.read_csv(\"/kaggle/input/nlp-getting-started/train.csv\")\n",
    "test = pd.read_csv(\"/kaggle/input/nlp-getting-started/test.csv\")\n",
    "sample = pd.read_csv(\"/kaggle/input/nlp-getting-started/sample_submission.csv\")\n",
    "train.head(10)"
   ]
  },
  {
   "cell_type": "code",
   "execution_count": 3,
   "id": "4701bcb4",
   "metadata": {
    "execution": {
     "iopub.execute_input": "2023-02-18T02:43:29.474227Z",
     "iopub.status.busy": "2023-02-18T02:43:29.473825Z",
     "iopub.status.idle": "2023-02-18T02:43:29.479943Z",
     "shell.execute_reply": "2023-02-18T02:43:29.479136Z"
    },
    "papermill": {
     "duration": 0.01451,
     "end_time": "2023-02-18T02:43:29.484023",
     "exception": false,
     "start_time": "2023-02-18T02:43:29.469513",
     "status": "completed"
    },
    "tags": []
   },
   "outputs": [
    {
     "data": {
      "text/plain": [
       "(7613, 5)"
      ]
     },
     "execution_count": 3,
     "metadata": {},
     "output_type": "execute_result"
    }
   ],
   "source": [
    "train.shape"
   ]
  },
  {
   "cell_type": "code",
   "execution_count": 4,
   "id": "152d2ecf",
   "metadata": {
    "execution": {
     "iopub.execute_input": "2023-02-18T02:43:29.492253Z",
     "iopub.status.busy": "2023-02-18T02:43:29.491606Z",
     "iopub.status.idle": "2023-02-18T02:43:29.508302Z",
     "shell.execute_reply": "2023-02-18T02:43:29.506551Z"
    },
    "papermill": {
     "duration": 0.023948,
     "end_time": "2023-02-18T02:43:29.511095",
     "exception": false,
     "start_time": "2023-02-18T02:43:29.487147",
     "status": "completed"
    },
    "tags": []
   },
   "outputs": [
    {
     "name": "stdout",
     "output_type": "stream",
     "text": [
      "Number of Unique Values-- Targets: 2 Keywords: 221 Locations: 3341\n"
     ]
    }
   ],
   "source": [
    "n_target = train.target.nunique()\n",
    "n_keyword = train.keyword.nunique()\n",
    "n_location = train.location.nunique()\n",
    "\n",
    "print('Number of Unique Values--','Targets:',n_target,'Keywords:',n_keyword,'Locations:',n_location)"
   ]
  },
  {
   "cell_type": "code",
   "execution_count": 5,
   "id": "ccc6b0a8",
   "metadata": {
    "execution": {
     "iopub.execute_input": "2023-02-18T02:43:29.519474Z",
     "iopub.status.busy": "2023-02-18T02:43:29.519041Z",
     "iopub.status.idle": "2023-02-18T02:43:29.528424Z",
     "shell.execute_reply": "2023-02-18T02:43:29.526875Z"
    },
    "papermill": {
     "duration": 0.016277,
     "end_time": "2023-02-18T02:43:29.530776",
     "exception": false,
     "start_time": "2023-02-18T02:43:29.514499",
     "status": "completed"
    },
    "tags": []
   },
   "outputs": [
    {
     "name": "stdout",
     "output_type": "stream",
     "text": [
      "Number of Non-NULL Values-- Targets: 7613 Keywords: 7552 Locations: 5080\n"
     ]
    }
   ],
   "source": [
    "nnull_target = train.target.notnull().sum()\n",
    "nnull_keyword = train.keyword.notnull().sum()\n",
    "nnull_location = train.location.notnull().sum()\n",
    "\n",
    "print('Number of Non-NULL Values--','Targets:',nnull_target,'Keywords:',nnull_keyword,'Locations:',nnull_location)"
   ]
  },
  {
   "cell_type": "code",
   "execution_count": 6,
   "id": "39901aae",
   "metadata": {
    "execution": {
     "iopub.execute_input": "2023-02-18T02:43:29.539193Z",
     "iopub.status.busy": "2023-02-18T02:43:29.538756Z",
     "iopub.status.idle": "2023-02-18T02:43:29.548268Z",
     "shell.execute_reply": "2023-02-18T02:43:29.546802Z"
    },
    "papermill": {
     "duration": 0.016259,
     "end_time": "2023-02-18T02:43:29.550355",
     "exception": false,
     "start_time": "2023-02-18T02:43:29.534096",
     "status": "completed"
    },
    "tags": []
   },
   "outputs": [
    {
     "name": "stdout",
     "output_type": "stream",
     "text": [
      "Number of NULL Values-- Targets: 0 Keywords: 61 Locations: 2533\n"
     ]
    }
   ],
   "source": [
    "null_target = train.target.isna().sum()\n",
    "null_keyword = train.keyword.isna().sum()\n",
    "null_location = train.location.isna().sum()\n",
    "\n",
    "print('Number of NULL Values--','Targets:',null_target,'Keywords:',null_keyword,'Locations:',null_location)"
   ]
  }
 ],
 "metadata": {
  "kernelspec": {
   "display_name": "Python 3",
   "language": "python",
   "name": "python3"
  },
  "language_info": {
   "codemirror_mode": {
    "name": "ipython",
    "version": 3
   },
   "file_extension": ".py",
   "mimetype": "text/x-python",
   "name": "python",
   "nbconvert_exporter": "python",
   "pygments_lexer": "ipython3",
   "version": "3.7.12"
  },
  "papermill": {
   "default_parameters": {},
   "duration": 9.262955,
   "end_time": "2023-02-18T02:43:30.178244",
   "environment_variables": {},
   "exception": null,
   "input_path": "__notebook__.ipynb",
   "output_path": "__notebook__.ipynb",
   "parameters": {},
   "start_time": "2023-02-18T02:43:20.915289",
   "version": "2.3.4"
  }
 },
 "nbformat": 4,
 "nbformat_minor": 5
}
